{
 "cells": [
  {
   "cell_type": "markdown",
   "id": "7243da6f",
   "metadata": {},
   "source": []
  },
  {
   "cell_type": "code",
   "execution_count": 1,
   "id": "7655f73a",
   "metadata": {},
   "outputs": [],
   "source": [
    "%gui tk\n",
    "import tkinter as tk\n",
    "import math"
   ]
  },
  {
   "cell_type": "code",
   "execution_count": null,
   "id": "9472e65e",
   "metadata": {},
   "outputs": [],
   "source": [
    "class gameboard:\n",
    "    def __init__(self, master, rows=6, cols=6, tile_size=60,\n",
    "                 dark=\"#555555\", light=\"#DDDDDD\", outline=\"black\"):\n",
    "        self.rows = rows\n",
    "        self.cols = cols\n",
    "        self.tile_size = tile_size\n",
    "        self.dark = dark\n",
    "        self.light = light\n",
    "        self.outline = outline\n",
    "\n",
    "        # Distance from a diamond's center to any corner when the square is rotated 45\n",
    "        self.r = tile_size / math.sqrt(2)\n",
    "\n",
    "        # Padding so corners don't get clipped by the edge\n",
    "        self.pad_x = self.r + 2\n",
    "        self.pad_y = self.r + 2\n",
    "\n",
    "        # Canvas size covers the board plus padding on both sides\n",
    "        width  = (cols + rows) * self.r + 2 * self.pad_x\n",
    "        height = (cols + rows) * self.r + 2 * self.pad_y\n",
    "\n",
    "        self.canvas = tk.Canvas(master, width=width, height=height,\n",
    "                                bg=\"white\", highlightthickness=0)\n",
    "        self.canvas.pack()\n",
    "        self._draw_board()\n",
    "\n",
    "    def _draw_board(self):\n",
    "        for r in range(self.rows):\n",
    "            for c in range(self.cols):\n",
    "                # Base is isometric-style coordinates\n",
    "                cx = (c - r) * self.r + (self.cols * self.r)\n",
    "                cy = (c + r) * self.r\n",
    "\n",
    "                # Shift everything by padding so nothing is off-canvas\n",
    "                cx += self.pad_x\n",
    "                cy += self.pad_y\n",
    "\n",
    "                # Diamond corners: top, right, bottom, left\n",
    "                coords = [\n",
    "                    cx,           cy - self.r,\n",
    "                    cx + self.r,  cy,\n",
    "                    cx,           cy + self.r,\n",
    "                    cx - self.r,  cy\n",
    "                ]\n",
    "\n",
    "                color = self.dark if (r + c) % 2 == 0 else self.light\n",
    "                self.canvas.create_polygon(coords, fill=color, outline=self.outline)"
   ]
  },
  {
   "cell_type": "code",
   "execution_count": 5,
   "id": "4aead263",
   "metadata": {},
   "outputs": [],
   "source": [
    "root = tk.Tk()\n",
    "root.title(\"Fox and Hounds\")\n",
    "board = gameboard(root)"
   ]
  }
 ],
 "metadata": {
  "kernelspec": {
   "display_name": "Python 3",
   "language": "python",
   "name": "python3"
  },
  "language_info": {
   "codemirror_mode": {
    "name": "ipython",
    "version": 3
   },
   "file_extension": ".py",
   "mimetype": "text/x-python",
   "name": "python",
   "nbconvert_exporter": "python",
   "pygments_lexer": "ipython3",
   "version": "3.11.4"
  }
 },
 "nbformat": 4,
 "nbformat_minor": 5
}
